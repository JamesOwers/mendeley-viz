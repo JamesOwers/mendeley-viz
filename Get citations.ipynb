{
 "cells": [
  {
   "cell_type": "markdown",
   "metadata": {
    "deletable": true,
    "editable": true
   },
   "source": [
    "# Get citations for a given paper..."
   ]
  },
  {
   "cell_type": "code",
   "execution_count": 22,
   "metadata": {
    "collapsed": false,
    "deletable": true,
    "editable": true
   },
   "outputs": [
    {
     "name": "stdout",
     "output_type": "stream",
     "text": [
      "http://scholar.google.com/scholar?cites=11323820407478271997&as_sdt=2005&sciodt=0,5&hl=en\r\n"
     ]
    }
   ],
   "source": [
    "!./scholar.py -t -p 'Automatic music transcription: Challenges and future directions' --csv | cut -d '|' -f8"
   ]
  },
  {
   "cell_type": "code",
   "execution_count": 23,
   "metadata": {
    "collapsed": true,
    "deletable": true,
    "editable": true
   },
   "outputs": [],
   "source": [
    "import scholarly"
   ]
  },
  {
   "cell_type": "code",
   "execution_count": 31,
   "metadata": {
    "collapsed": false,
    "deletable": true,
    "editable": true
   },
   "outputs": [],
   "source": [
    "search_query = scholarly.search_pubs_query('Automatic music transcription: Challenges and future directions')"
   ]
  },
  {
   "cell_type": "code",
   "execution_count": 32,
   "metadata": {
    "collapsed": false,
    "deletable": true,
    "editable": true
   },
   "outputs": [],
   "source": [
    "pub = next(search_query).fill()"
   ]
  },
  {
   "cell_type": "code",
   "execution_count": 34,
   "metadata": {
    "collapsed": false,
    "deletable": true,
    "editable": true
   },
   "outputs": [
    {
     "name": "stdout",
     "output_type": "stream",
     "text": [
      "{'_filled': True,\n",
      " 'bib': {'ENTRYTYPE': u'article',\n",
      "         'ID': u'benetos2013automatic',\n",
      "         u'abstract': u'Automatic music transcription is considered by many to be a key enabling technology in music signal processing. However, the performance of transcription systems is still significantly below that of a human expert, and accuracies reported in recent years seem to have reached a limit, although the field is still very active. In this paper we analyse limitations of current methods and identify promising directions for future research. Current  ...',\n",
      "         u'author': u'Benetos, Emmanouil and Dixon, Simon and Giannoulis, Dimitrios and Kirchhoff, Holger and Klapuri, Anssi',\n",
      "         u'eprint': u'https://scholar.google.comhttp://openaccess.city.ac.uk/2524/1/JIIS-MIRrors-AMT-postprint.pdf',\n",
      "         u'journal': u'Journal of Intelligent Information Systems',\n",
      "         u'number': u'3',\n",
      "         u'pages': u'407--434',\n",
      "         u'publisher': u'Springer',\n",
      "         u'title': u'Automatic music transcription: challenges and future directions',\n",
      "         u'url': u'http://link.springer.com/article/10.1007/s10844-013-0258-3',\n",
      "         u'volume': u'41',\n",
      "         u'year': u'2013'},\n",
      " 'citedby': 96,\n",
      " 'id_scholarcitedby': u'11323820407478271997',\n",
      " 'source': u'scholar',\n",
      " 'url_scholarbib': u'https://scholar.googleusercontent.com/scholar.bib?q=info:_b8PGKpKJp0J:scholar.google.com/&output=citation&scisig=AAGBfm0AAAAAWNVNTJshdk2-07RQ4NyOaZm7iUjhNWsH&scisf=4&ct=citation&cd=0&hl=en'}\n"
     ]
    }
   ],
   "source": [
    "print(pub)"
   ]
  },
  {
   "cell_type": "code",
   "execution_count": 36,
   "metadata": {
    "collapsed": false,
    "deletable": true,
    "editable": true
   },
   "outputs": [
    {
     "data": {
      "text/plain": [
       "<generator object _search_scholar_soup at 0x7ff3ecc948c0>"
      ]
     },
     "execution_count": 36,
     "metadata": {},
     "output_type": "execute_result"
    }
   ],
   "source": [
    "pub.get_citedby()"
   ]
  },
  {
   "cell_type": "code",
   "execution_count": 37,
   "metadata": {
    "collapsed": false,
    "deletable": true,
    "editable": true
   },
   "outputs": [
    {
     "name": "stdout",
     "output_type": "stream",
     "text": [
      "\n",
      "\n",
      " That paper's citations ====================\n",
      "[u'Multi-resolution linear prediction based features for audio onset detection with bidirectional LSTM neural networks', u'Computer-aided melody note transcription using the Tony software: Accuracy and efficiency', u'Automatic transcription of pitched and unpitched sounds from polyphonic music', u'An RNN-based music language model for improving automatic music transcription', u'Escaping from the abyss of manual annotation: New methodology of building polyphonic datasets for automatic music transcription', u'Automatic Tablature Transcription of Electric Guitar Recordings by Estimation of Score-and Instrument-Related Parameters.', u'Combining spectral and temporal representations for multipitch estimation of polyphonic music', u'Sparse Cepstral, Phase Codes for Guitar Playing Technique Classification.', u'A dynamic programming variant of non-negative matrix deconvolution for the transcription of struck string instruments', u'Note-level Music Transcription by Maximum Likelihood Sampling.', u'Piano music transcription with fast convolutional sparse coding', u'Corpus COFLA: a research corpus for the computational study of flamenco music', u'Improving instrument recognition in polyphonic music through system integration', u'Automatic transcription of flamenco singing from polyphonic music recordings', u'Piano music transcription modeling note temporal evolution', u'Template adaptation for improving automatic music transcription', u'Drum Transcription via Classification of Bar-Level Rhythmic Patterns.', u'Automatic transcription of Turkish microtonal music', u'Dynamics in jazz improvisation. Score-informed estimation and contextual analysis of tone intensities in trumpet and saxophone solos', u'Real-time piano music transcription based on computer vision', u'Resolving octave ambiguities: A cross-dataset investigation', u'Big data for musicology', u'A score-informed shift-invariant extension of complex matrix factorization for improving the separation of overlapped partials in music recordings', u'Musical onset detection using constrained linear reconstruction', u'An adaptive penalty multi-pitch estimator with self-regularization', u'Drum transcription using partially fixed non-negative matrix factorization', u'An investigation of prior knowledge in Automatic Music Transcription systems', u'Multiple-F0 estimation and note tracking for MIREX 2015 using a sound statebased spectrogram factorization model', u'Estimating Musical Time Information from Performed MIDI Files.', u'Multiple-f0 estimation and note tracking for mirex 2013 using an efficient latent variable model', u'Constrained nonnegative matrix factorization with applications to music transcription', u'The Sousta corpus: Beat-informed automatic transcription of traditional dance tunes', u'Extract fetal ECG from single-lead abdominal ECG by de-shape short time Fourier transform and nonlocal median', u'Exploiting frequency, periodicity and harmonicity using advanced time-frequency concentration techniques for multipitch estimation of choir and symphony', u\"Transcribing Debussy's Syrinx dynamics through Linguistic Description: The MUDELD algorithm\", u'Algorithms for melody search and transcription', u'Harmony generation driven by a perceptually motivated tonal interval space', u'Improving piano note tracking by HMM smoothing', u'Harmony Generation Driven by a Perceptually Motivated Tonal Interval Space', u'Music similarity and retrieval', u'Multiple-F0 estimation and note tracking for MIREX 2014 using a variable-Q transform', u'claVision: visual automatic piano music transcription', u'Piano transcription in the studio using an extensible alternating directions framework', u'Algorithmen zur strukturellen Analyse von Musikaufnahmen.', u'Monaural Music Source Separation Using Convolutional Sparse Coding', u'Multipitch estimation using judge-based model', u'Transcription of Polyphonic Vocal Music with a Repetitive Melodic Structure', u'An efficient approach for Interactive Sequential Pattern Recognition', u'Piano Transcription With Convolutional Sparse Lateral Inhibition', u'Perception, Cognition, and Generation of Music: a Case for Human-Like Understanding of Temporal Structures', u'Deliverable D4.', u'Automatic Piano Music Transcription Using Audio-Visual Features', u'CROSS TASK STUDY ON MIREX RECENT RESULTS: AN INDEX FOR EVOLUTION MEASUREMENT AND SOME STAGNATION HYPOTHESES', u'An Exhaustive Review of Automatic Music Transcription Techniques', u'AN EVALUATION OF SCORE-INFORMED METHODS FOR ESTIMATING FUNDAMENTAL FREQUENCY AND POWER FROM POLYPHONIC AUDIO', u'ENSEMBLE: A HYBRID HUMAN-MACHINE SYSTEM FOR GENERATING MELODY SCORES FROM AUDIO', u'Recognition of Sound Sources and Acoustic Events in Music and Environmental Audio', u'A Corpus of Annotated Irish Traditional Dance Music Recordings: Design and Benchmark Evaluations', u'An attack/decay model for piano transcription', u'Application of Multiple Sound Representations in Multipitch Estimation Using Shift-Invariant Probabilistic Latent Component Analysis', u'Genre classification of symbolic pieces of music', u'Analyzing the influence of pitch quantization and note segmentation on singing voice alignment in the context of audio-based Query-by-Humming', u'An Exploration into the Application of Convolutional Neural Networks for Instrument Classification on Monophonic Note Samples', u'Studies on phosphaamidines, phosphinodiimines, and diphosphanes', u'Multipitch estimation using multiple transformation analysis', u'Towards the Objective Assessment of Music Performances', u'POLYPHONIC MUSIC TRANSCRIPTION USING DEEP BELIEF NETWORK', u'Rhythm transcription of MIDI performances based on hierarchical Bayesian modelling of repetition and modification of musical note patterns', u'An automatic music transcription system dedicated to the repertoires of the marovany zither', u'Rhythm Transcription of Polyphonic Piano Music Based on Merged-Output HMM for Multiple Voices', u'TRANSCRIBING HUMAN PIANO PERFORMANCES INTO MUSIC NOTATION', u'MOMOS-MT: Mobile Monophonic System for Music Transcription', u'Polyphonic pitch detection by matching spectral and autocorrelation peaks', u'Guitar Tablature Transcription using a Deep Belief Network', u'Gaussian Processes for Music Audio Modelling and Content Analysis', u'A BASS LINE TRANSCRIPTION ALGORITHM FOR POLYPHONIC MUSIC', u'Chord Recognition', u'Pitch Contour Segmentation for Computer-aided Jingju Singing Training', u'Automatic music transcription software based on constant Q transform', u'An image analysis approach for transcription of music played on keyboard-like instruments', u'Instrument Learning and Sparse NMD for Automatic Polyphonic Music Transcription', u'Multi-pitch estimation based on sparse representation with pre-screened dictionary', u'Context-Dependent Piano Music Transcription With Convolutional Sparse Coding', u'Score-Informed Analysis of Tuning, Intonation, Pitch Modulation, and Dynamics in Jazz Solos', u'Minimum-latency Time-frequency Analysis Using Asymmetric Window Functions', u'ON DRUM PLAYING TECHNIQUE DETECTION IN POLYPHONIC MIXTURES', u'Isolated instrument transcription using a deep belief network', u'Classification-based Note Tracking for Automatic Music Transcription', u'RHYTHM TRANSCRIPTION OF POLYPHONIC MIDI PERFORMANCES BASED ON A MERGED-OUTPUT HMM FOR MULTIPLE VOICES', u'Gaussian processes for music audio modelling and content analysis', u'\\u97f3\\u578b\\u306e\\u53cd\\u5fa9\\u3068\\u5909\\u5f62\\u306b\\u57fa\\u3065\\u304f\\u968e\\u5c64\\u30d9\\u30a4\\u30ba\\u97f3\\u697d\\u8a00\\u8a9e\\u30e2\\u30c7\\u30eb\\u3068 MIDI \\u6f14\\u594f\\u306e\\u30ea\\u30ba\\u30e0\\u63a1\\u8b5c\\u3078\\u306e\\u5fdc\\u7528', u'Ocenjevanje osnovnih frekvenc z uporabo kompozicionalnega hierarhicnega modela', u'Kompozicionalni hierarhi\\u010dni model za ocenjevanje osnovnih frekvenc', u'Nathan SOUVIRA\\xc0-LABASTIE', u'D\\xe9tection de motifs audio pour la s\\xe9paration de sources guid\\xe9e. Application aux bandes-son de films.', u'Pattern Recognition for Music Notation']\n"
     ]
    }
   ],
   "source": [
    "print('\\n\\n That paper\\'s citations {}'.format(20*'='))\n",
    "print([citation.bib['title'] for citation in pub.get_citedby()])"
   ]
  },
  {
   "cell_type": "code",
   "execution_count": 30,
   "metadata": {
    "collapsed": false,
    "deletable": true,
    "editable": true
   },
   "outputs": [
    {
     "name": "stdout",
     "output_type": "stream",
     "text": [
      "\n",
      "\n",
      "next(search_author()).fill() first result ====================\n",
      "{'_filled': True,\n",
      " 'affiliation': u'Postdoctoral Scholar, University of California, Berkeley',\n",
      " 'citedby': 127,\n",
      " 'email': u'@berkeley.edu',\n",
      " 'hindex': 6,\n",
      " 'hindex5y': 6,\n",
      " 'i10index': 4,\n",
      " 'i10index5y': 4,\n",
      " 'id': u'4bahYMkAAAAJ',\n",
      " 'interests': [u'3D Shape',\n",
      "               u'Shape from Texture',\n",
      "               u'Shape from Shading',\n",
      "               u'Naive Physics',\n",
      "               u'Haptics'],\n",
      " 'name': u'Steven A. Cholewiak',\n",
      " 'publications': [<scholarly.Publication object at 0x7ff3eca523d0>,\n",
      "                  <scholarly.Publication object at 0x7ff3eca52410>,\n",
      "                  <scholarly.Publication object at 0x7ff3eca52450>,\n",
      "                  <scholarly.Publication object at 0x7ff3eca52490>,\n",
      "                  <scholarly.Publication object at 0x7ff3eca524d0>,\n",
      "                  <scholarly.Publication object at 0x7ff3eca52510>,\n",
      "                  <scholarly.Publication object at 0x7ff3eca52550>,\n",
      "                  <scholarly.Publication object at 0x7ff3eca52590>,\n",
      "                  <scholarly.Publication object at 0x7ff3eca525d0>,\n",
      "                  <scholarly.Publication object at 0x7ff3eca52610>,\n",
      "                  <scholarly.Publication object at 0x7ff3eca52650>,\n",
      "                  <scholarly.Publication object at 0x7ff3eca52690>,\n",
      "                  <scholarly.Publication object at 0x7ff3eca526d0>,\n",
      "                  <scholarly.Publication object at 0x7ff3eca52710>,\n",
      "                  <scholarly.Publication object at 0x7ff3eca52750>,\n",
      "                  <scholarly.Publication object at 0x7ff3eca52790>,\n",
      "                  <scholarly.Publication object at 0x7ff3eca527d0>,\n",
      "                  <scholarly.Publication object at 0x7ff3eca52810>,\n",
      "                  <scholarly.Publication object at 0x7ff3eca52850>,\n",
      "                  <scholarly.Publication object at 0x7ff3eca52890>,\n",
      "                  <scholarly.Publication object at 0x7ff3eca528d0>,\n",
      "                  <scholarly.Publication object at 0x7ff3eca52910>,\n",
      "                  <scholarly.Publication object at 0x7ff3eca52950>,\n",
      "                  <scholarly.Publication object at 0x7ff3eca52990>,\n",
      "                  <scholarly.Publication object at 0x7ff3eca529d0>,\n",
      "                  <scholarly.Publication object at 0x7ff3eca52a10>,\n",
      "                  <scholarly.Publication object at 0x7ff3eca52a50>,\n",
      "                  <scholarly.Publication object at 0x7ff3eca52a90>,\n",
      "                  <scholarly.Publication object at 0x7ff3eca52ad0>,\n",
      "                  <scholarly.Publication object at 0x7ff3eca52b10>,\n",
      "                  <scholarly.Publication object at 0x7ff3eca52b50>,\n",
      "                  <scholarly.Publication object at 0x7ff3eca52b90>,\n",
      "                  <scholarly.Publication object at 0x7ff3eca52bd0>,\n",
      "                  <scholarly.Publication object at 0x7ff3eca52c10>,\n",
      "                  <scholarly.Publication object at 0x7ff3eca52c50>],\n",
      " 'url_picture': u'/citations?view_op=view_photo&user=4bahYMkAAAAJ&citpid=1'}\n",
      "\n",
      "\n",
      "Author pubs ====================\n",
      "[u'A frequency-domain analysis of haptic gratings', u'Haptic identification of stiffness and force magnitude', u'Visual perception of the physical stability of asymmetric three-dimensional objects', u'Inferring the intentional states of autonomous virtual agents', u'Perception of physical stability and center of mass of 3-D objects', u'Perception of intentions and mental states in autonomous virtual agents', u'Frequency analysis of the detectability of virtual haptic gratings', u'Discrimination of real and virtual surfaces with sinusoidal and triangular gratings using the fingertip and stylus', u'The perception of physical stability of 3d objects: The role of parts', u'Agency and rationality: Adopting the intentional stance toward evolved virtual agents.', u'Intra-and intermanual curvature aftereffect can be obtained via tool-touch', u'Distinguishing between texture and shading flows for 3D shape estimation.', u'Predicting 3D shape perception from shading and texture flows', u'Towards a unified explanation of shape from shading and texture', u'The tipping point: Visual estimation of the physical stability of three-dimensional objects', u'Appearance controls interpretation of orientation flows for 3D shape estimation', u'The Dark Secrets of Dirty Concavities', u'Limits on the estimation of shape from specular surfaces', u'What happens to a shiny 3D object in a rotating environment?', u'Effects of varied spatial scale on perception of shape from shiny surfaces', u'Visually disentangling shading and surface pigmentation when the two are correlated', u'Perceptual regions of interest for 3D shape derived from shading and texture flows', u'Visual perception of the physical stability of asymmetric three', u'Visual adaptation to physical stability of objects', u'Perception of Physical Stability of Asymmetrical Three-Dimensional Objects', u'Curvature aftereffect and visual-haptic interactions in simulated environments', u'On the edge: Perceived stability and center of mass of 3D objects', u'Perceiving intelligent action: Experiments in the interpretation of intentional motion', u'Living within a virtual environment populated by intelligent autonomous agents', u'Pain: Physiological mechanisms', u'Cutaneous perception', u'Perceptual estimation of variance in orientation and its dependence on sample size', u'Haptic stiffness identification and information transfer', u'In press, Journal of Vision Perception of the physical stability of asymmetrical three-dimensional objects', u'This manuscript has been accepted for publication at Decision']\n",
      "\n",
      "\n",
      " First publicaion in author.publications ====================\n",
      "{'_filled': True,\n",
      " 'bib': {u'abstract': u'The detectability and discriminability of virtual haptic gratings were analyzed in the frequency domain. Detection (Exp. 1) and discrimination (Exp. 2) thresholds for virtual haptic gratings were estimated using a force-feedback device that simulated sinusoidal and square-wave gratings with spatial periods from 0.2 to 38.4 mm. The detection threshold results indicated that for spatial periods up to 6.4 mm (ie, spatial frequencies> 0.156 cycle/mm), the detectability of square-wave gratings could be predicted quantitatively from the detection  ...',\n",
      "         u'author': u'Steven A Cholewiak and Kwangtaek Kim and Hong Z Tan and Bernard D Adelstein',\n",
      "         u'journal': u'IEEE Transactions on Haptics',\n",
      "         u'number': u'1',\n",
      "         u'pages': u'3-14',\n",
      "         u'publisher': u'IEEE',\n",
      "         u'title': u'A frequency-domain analysis of haptic gratings',\n",
      "         u'url': u'http://ieeexplore.ieee.org/abstract/document/5210096/',\n",
      "         u'volume': u'3',\n",
      "         u'year': 2010},\n",
      " 'citedby': 32,\n",
      " 'id_citations': u'4bahYMkAAAAJ:u5HHmVD_uO8C',\n",
      " 'id_scholarcitedby': u'13781805114531538289',\n",
      " 'source': u'citations'}\n",
      "\n",
      "\n",
      " That paper's citations ====================\n",
      "[u'Tactile and haptic illusions', u'Application of psychophysical techniques to haptic research', u'Modeling and rendering realistic textures from unconstrained tool-surface interactions', u'Generating haptic texture models from unconstrained tool-surface interactions', u'One hundred data-driven haptic texture models and open-source methods for rendering on 3D objects', u'Performance metrics for haptic interfaces', u'Dynamic simulation of tool-mediated texture interaction', u\"What you can't feel won't hurt you: Evaluating haptic hardware using a haptic contrast sensitivity function\", u'Perceptual properties of vibrotactile material texture: Effects of amplitude changes and stimuli beneath detection thresholds', u'Emotional responses of tactile icons: Effects of amplitude, frequency, duration, and envelope', u'Lossy data compression of vibrotactile material-like textures', u'Just noticeable differences of low-intensity vibrotactile forces at the fingertip', u'Spectrum-based vibrotactile footstep-display for crinkle of fragile structures', u'Spectrum-based synthesis of vibrotactile stimuli: Active footstep display for crinkle of fragile structures', u'Discrimination of real and virtual surfaces with sinusoidal and triangular gratings using the fingertip and stylus', u'Development of a multiple contact haptic display with texture-enhanced graphics', u'Virtual active touch: perception of virtual gratings wavelength through pointing-stick interface', u'The physical basis of perceived roughness in virtual sinusoidal textures', u'Relationship between tactual roughness judgment and surface morphology of fabric by fingertip touching method', u'Improving the prediction of haptic impression user ratings using perception-based weighting methods: experimental evaluation', u'Haptics as an interaction modality', u'Data-driven modeling of isotropic haptic textures using frequency-decomposed neural networks', u'Distinguishability of periodic haptic stimuli in the frequency domain', u'Web-based virtual workplace environment for improving safety', u'\\u57fa\\u4e8e\\u9891\\u8c31\\u5206\\u6790\\u7684\\u7ec7\\u7269\\u7c97\\u7cd9\\u611f', u'Research on evaluation method of fabric tactile sensibility', u'A Multilevel Customized Training Platform for Machining in Internet Environment', u'ROUGHNESS DISCRIMINATION OF TEXTURED GRATINGS', u'Data-driven haptic modeling and rendering of realistic virtual textured surfaces', u'Analysis of fingertip/fabric friction-induced vibration signals toward vibrotactile rendering', u'Tactile perception of natural and simulated textures A psychophysical approach', u'The human perception of haptic vibrations']\n"
     ]
    }
   ],
   "source": [
    "# Retrieve the author's data, fill-in, and print\n",
    "search_query = scholarly.search_author('Steven A Cholewiak')\n",
    "author = next(search_query).fill()\n",
    "\n",
    "print('\\n\\nnext(search_author()).fill() first result {}'.format(20*'='))\n",
    "print(author)\n",
    "\n",
    "# Print the titles of the author's publications\n",
    "print('\\n\\nAuthor pubs {}'.format(20*'='))\n",
    "print([pub.bib['title'] for pub in author.publications])\n",
    "\n",
    "# Take a closer look at the first publication\n",
    "print('\\n\\n First publicaion in author.publications {}'.format(20*'='))\n",
    "pub = author.publications[0].fill()\n",
    "print(pub)\n",
    "\n",
    "# Which papers cited that publication?\n",
    "print('\\n\\n That paper\\'s citations {}'.format(20*'='))\n",
    "print([citation.bib['title'] for citation in pub.get_citedby()])"
   ]
  }
 ],
 "metadata": {
  "kernelspec": {
   "display_name": "Python 2",
   "language": "python",
   "name": "python2"
  },
  "language_info": {
   "codemirror_mode": {
    "name": "ipython",
    "version": 2
   },
   "file_extension": ".py",
   "mimetype": "text/x-python",
   "name": "python",
   "nbconvert_exporter": "python",
   "pygments_lexer": "ipython2",
   "version": "2.7.13"
  }
 },
 "nbformat": 4,
 "nbformat_minor": 2
}
